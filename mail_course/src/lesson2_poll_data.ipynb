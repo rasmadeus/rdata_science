{
 "cells": [
  {
   "cell_type": "code",
   "execution_count": 61,
   "metadata": {},
   "outputs": [],
   "source": [
    "import pandas as pd\n",
    "from matplotlib import pyplot as plt\n",
    "import seaborn as sns\n",
    "import numpy as np\n",
    "import nltk\n",
    "%matplotlib inline"
   ]
  },
  {
   "cell_type": "code",
   "execution_count": 14,
   "metadata": {},
   "outputs": [],
   "source": [
    "poll_data = pd.read_csv('../data/mlcourse_open_first_survey_parsed.csv', index_col='id')"
   ]
  },
  {
   "cell_type": "code",
   "execution_count": 15,
   "metadata": {},
   "outputs": [
    {
     "data": {
      "text/html": [
       "<div>\n",
       "<style scoped>\n",
       "    .dataframe tbody tr th:only-of-type {\n",
       "        vertical-align: middle;\n",
       "    }\n",
       "\n",
       "    .dataframe tbody tr th {\n",
       "        vertical-align: top;\n",
       "    }\n",
       "\n",
       "    .dataframe thead th {\n",
       "        text-align: right;\n",
       "    }\n",
       "</style>\n",
       "<table border=\"1\" class=\"dataframe\">\n",
       "  <thead>\n",
       "    <tr style=\"text-align: right;\">\n",
       "      <th></th>\n",
       "      <th>Timestamp</th>\n",
       "      <th>Представьтесь в 2-3 фразах</th>\n",
       "      <th>Работали ли Вы с Jupyter notebooks?</th>\n",
       "      <th>Что Вы ждете от курса?</th>\n",
       "      <th>Потом мы прямо этот же набор данных поанализируем с Pandas. Так что какой Ваш любимый вид спорта?</th>\n",
       "      <th>Ладно, посерьезней: согласны ли Вы на обработку персональных данных?</th>\n",
       "      <th>Какие оцениваете свой уровень математической подготовки? (матан, линал, теорвер)</th>\n",
       "      <th>Чему равна дисперсия равномерного на [0,6] распределения?</th>\n",
       "      <th>Найдите минимум функции 3x^4-8x^3+6x^2-12 на отрезке [-3,3]</th>\n",
       "      <th>Сколько параметров у нормального распределения?</th>\n",
       "      <th>Сможете написать на Python генератор чисел Фибоначчи?</th>\n",
       "      <th>Хорошо, а готовы к началу курса (6 сентября 2017) освоить азы Python? На уровне Code Academy, DataCamp или github.com/Yorko/python_intro</th>\n",
       "      <th>Оцените свой уровень владения GitHub</th>\n",
       "      <th>Посоветуйте хороший фильм в стиле \"Игра в имитацию\" :)</th>\n",
       "    </tr>\n",
       "    <tr>\n",
       "      <th>id</th>\n",
       "      <th></th>\n",
       "      <th></th>\n",
       "      <th></th>\n",
       "      <th></th>\n",
       "      <th></th>\n",
       "      <th></th>\n",
       "      <th></th>\n",
       "      <th></th>\n",
       "      <th></th>\n",
       "      <th></th>\n",
       "      <th></th>\n",
       "      <th></th>\n",
       "      <th></th>\n",
       "      <th></th>\n",
       "    </tr>\n",
       "  </thead>\n",
       "  <tbody>\n",
       "    <tr>\n",
       "      <th>0</th>\n",
       "      <td>2016/12/05 10:39:59 am GMT+3</td>\n",
       "      <td>крутой Developer</td>\n",
       "      <td>Да</td>\n",
       "      <td>Ребята, вижу ваш настрой, уверен курс будет ин...</td>\n",
       "      <td>Starcraft</td>\n",
       "      <td>Да</td>\n",
       "      <td>4</td>\n",
       "      <td>3</td>\n",
       "      <td>-12</td>\n",
       "      <td>2.0</td>\n",
       "      <td>Да</td>\n",
       "      <td>Да</td>\n",
       "      <td>Проф</td>\n",
       "      <td>Прочитай книгу Лема \"Голос Неба\", очень много ...</td>\n",
       "    </tr>\n",
       "    <tr>\n",
       "      <th>1</th>\n",
       "      <td>2016/12/05 10:44:27 am GMT+3</td>\n",
       "      <td>Разработчик Navision. Изучаю тему DS для возмо...</td>\n",
       "      <td>Да</td>\n",
       "      <td>Практики, подкрепленной теорией. Хочется упоря...</td>\n",
       "      <td>NaN</td>\n",
       "      <td>Да</td>\n",
       "      <td>1</td>\n",
       "      <td>3</td>\n",
       "      <td>NaN</td>\n",
       "      <td>2.0</td>\n",
       "      <td>Да, но фиговый.</td>\n",
       "      <td>Да</td>\n",
       "      <td>Могу скачать материалы</td>\n",
       "      <td>NaN</td>\n",
       "    </tr>\n",
       "  </tbody>\n",
       "</table>\n",
       "</div>"
      ],
      "text/plain": [
       "                       Timestamp  \\\n",
       "id                                 \n",
       "0   2016/12/05 10:39:59 am GMT+3   \n",
       "1   2016/12/05 10:44:27 am GMT+3   \n",
       "\n",
       "                           Представьтесь в 2-3 фразах  \\\n",
       "id                                                      \n",
       "0                                    крутой Developer   \n",
       "1   Разработчик Navision. Изучаю тему DS для возмо...   \n",
       "\n",
       "   Работали ли Вы с Jupyter notebooks?  \\\n",
       "id                                       \n",
       "0                                   Да   \n",
       "1                                   Да   \n",
       "\n",
       "                               Что Вы ждете от курса?  \\\n",
       "id                                                      \n",
       "0   Ребята, вижу ваш настрой, уверен курс будет ин...   \n",
       "1   Практики, подкрепленной теорией. Хочется упоря...   \n",
       "\n",
       "   Потом мы прямо этот же набор данных поанализируем с Pandas. Так что какой Ваш любимый вид спорта?  \\\n",
       "id                                                                                                     \n",
       "0                                           Starcraft                                                  \n",
       "1                                                 NaN                                                  \n",
       "\n",
       "   Ладно, посерьезней: согласны ли Вы на обработку персональных данных?  \\\n",
       "id                                                                        \n",
       "0                                                  Да                     \n",
       "1                                                  Да                     \n",
       "\n",
       "    Какие оцениваете свой уровень математической подготовки? (матан, линал, теорвер)  \\\n",
       "id                                                                                     \n",
       "0                                                   4                                  \n",
       "1                                                   1                                  \n",
       "\n",
       "   Чему равна дисперсия равномерного на [0,6] распределения?  \\\n",
       "id                                                             \n",
       "0                                                   3          \n",
       "1                                                   3          \n",
       "\n",
       "   Найдите минимум функции 3x^4-8x^3+6x^2-12 на отрезке [-3,3]  \\\n",
       "id                                                               \n",
       "0                                                 -12            \n",
       "1                                                 NaN            \n",
       "\n",
       "    Сколько параметров у нормального распределения?  \\\n",
       "id                                                    \n",
       "0                                               2.0   \n",
       "1                                               2.0   \n",
       "\n",
       "   Сможете написать на Python генератор чисел Фибоначчи?  \\\n",
       "id                                                         \n",
       "0                                                  Да      \n",
       "1                                     Да, но фиговый.      \n",
       "\n",
       "   Хорошо, а готовы к началу курса (6 сентября 2017) освоить азы Python? На уровне Code Academy, DataCamp или github.com/Yorko/python_intro  \\\n",
       "id                                                                                                                                            \n",
       "0                                                  Да                                                                                         \n",
       "1                                                  Да                                                                                         \n",
       "\n",
       "   Оцените свой уровень владения GitHub  \\\n",
       "id                                        \n",
       "0                                  Проф   \n",
       "1                Могу скачать материалы   \n",
       "\n",
       "   Посоветуйте хороший фильм в стиле \"Игра в имитацию\" :)  \n",
       "id                                                         \n",
       "0   Прочитай книгу Лема \"Голос Неба\", очень много ...      \n",
       "1                                                 NaN      "
      ]
     },
     "execution_count": 15,
     "metadata": {},
     "output_type": "execute_result"
    }
   ],
   "source": [
    "poll_data.head(2)"
   ]
  },
  {
   "cell_type": "code",
   "execution_count": 16,
   "metadata": {},
   "outputs": [
    {
     "data": {
      "text/plain": [
       "(2944, 14)"
      ]
     },
     "execution_count": 16,
     "metadata": {},
     "output_type": "execute_result"
    }
   ],
   "source": [
    "poll_data.shape"
   ]
  },
  {
   "cell_type": "code",
   "execution_count": 17,
   "metadata": {},
   "outputs": [],
   "source": [
    "rename_dict = dict(zip(poll_data.columns, [\n",
    "    'time',\n",
    "    'intro',\n",
    "    'jupyter',\n",
    "    'expect',\n",
    "    'sport',\n",
    "    'personal',\n",
    "    'math_level',\n",
    "    'quest1',\n",
    "    'quest2',\n",
    "    'quest3',\n",
    "    'fib_gen',\n",
    "    'python',\n",
    "    'github',\n",
    "    'movie',\n",
    "]))"
   ]
  },
  {
   "cell_type": "code",
   "execution_count": 18,
   "metadata": {},
   "outputs": [],
   "source": [
    "poll_data.rename(columns=rename_dict, inplace=True)"
   ]
  },
  {
   "cell_type": "code",
   "execution_count": 19,
   "metadata": {},
   "outputs": [
    {
     "data": {
      "text/html": [
       "<div>\n",
       "<style scoped>\n",
       "    .dataframe tbody tr th:only-of-type {\n",
       "        vertical-align: middle;\n",
       "    }\n",
       "\n",
       "    .dataframe tbody tr th {\n",
       "        vertical-align: top;\n",
       "    }\n",
       "\n",
       "    .dataframe thead th {\n",
       "        text-align: right;\n",
       "    }\n",
       "</style>\n",
       "<table border=\"1\" class=\"dataframe\">\n",
       "  <thead>\n",
       "    <tr style=\"text-align: right;\">\n",
       "      <th></th>\n",
       "      <th>time</th>\n",
       "      <th>intro</th>\n",
       "      <th>jupyter</th>\n",
       "      <th>expect</th>\n",
       "      <th>sport</th>\n",
       "      <th>personal</th>\n",
       "      <th>math_level</th>\n",
       "      <th>quest1</th>\n",
       "      <th>quest2</th>\n",
       "      <th>quest3</th>\n",
       "      <th>fib_gen</th>\n",
       "      <th>python</th>\n",
       "      <th>github</th>\n",
       "      <th>movie</th>\n",
       "    </tr>\n",
       "    <tr>\n",
       "      <th>id</th>\n",
       "      <th></th>\n",
       "      <th></th>\n",
       "      <th></th>\n",
       "      <th></th>\n",
       "      <th></th>\n",
       "      <th></th>\n",
       "      <th></th>\n",
       "      <th></th>\n",
       "      <th></th>\n",
       "      <th></th>\n",
       "      <th></th>\n",
       "      <th></th>\n",
       "      <th></th>\n",
       "      <th></th>\n",
       "    </tr>\n",
       "  </thead>\n",
       "  <tbody>\n",
       "    <tr>\n",
       "      <th>0</th>\n",
       "      <td>2016/12/05 10:39:59 am GMT+3</td>\n",
       "      <td>крутой Developer</td>\n",
       "      <td>Да</td>\n",
       "      <td>Ребята, вижу ваш настрой, уверен курс будет ин...</td>\n",
       "      <td>Starcraft</td>\n",
       "      <td>Да</td>\n",
       "      <td>4</td>\n",
       "      <td>3</td>\n",
       "      <td>-12</td>\n",
       "      <td>2.0</td>\n",
       "      <td>Да</td>\n",
       "      <td>Да</td>\n",
       "      <td>Проф</td>\n",
       "      <td>Прочитай книгу Лема \"Голос Неба\", очень много ...</td>\n",
       "    </tr>\n",
       "    <tr>\n",
       "      <th>1</th>\n",
       "      <td>2016/12/05 10:44:27 am GMT+3</td>\n",
       "      <td>Разработчик Navision. Изучаю тему DS для возмо...</td>\n",
       "      <td>Да</td>\n",
       "      <td>Практики, подкрепленной теорией. Хочется упоря...</td>\n",
       "      <td>NaN</td>\n",
       "      <td>Да</td>\n",
       "      <td>1</td>\n",
       "      <td>3</td>\n",
       "      <td>NaN</td>\n",
       "      <td>2.0</td>\n",
       "      <td>Да, но фиговый.</td>\n",
       "      <td>Да</td>\n",
       "      <td>Могу скачать материалы</td>\n",
       "      <td>NaN</td>\n",
       "    </tr>\n",
       "    <tr>\n",
       "      <th>2</th>\n",
       "      <td>2016/12/05 10:47:07 am GMT+3</td>\n",
       "      <td>Я Software Engeneer разработчик, активно интер...</td>\n",
       "      <td>Да</td>\n",
       "      <td>Побольше практики на реальных данных (задачах).</td>\n",
       "      <td>basketball</td>\n",
       "      <td>Да</td>\n",
       "      <td>3</td>\n",
       "      <td>3</td>\n",
       "      <td>NaN</td>\n",
       "      <td>2.0</td>\n",
       "      <td>Да</td>\n",
       "      <td>Да</td>\n",
       "      <td>Проф</td>\n",
       "      <td>NaN</td>\n",
       "    </tr>\n",
       "    <tr>\n",
       "      <th>3</th>\n",
       "      <td>2016/12/05 10:47:22 am GMT+3</td>\n",
       "      <td>Семилетний инженер. Специализируюсь в компьюте...</td>\n",
       "      <td>Да</td>\n",
       "      <td>Глубокого разбора алгоритмов и инструментов.</td>\n",
       "      <td>NaN</td>\n",
       "      <td>Да</td>\n",
       "      <td>3</td>\n",
       "      <td>0.5</td>\n",
       "      <td>-12</td>\n",
       "      <td>2.0</td>\n",
       "      <td>Да</td>\n",
       "      <td>Да</td>\n",
       "      <td>Пользуюсь ветками, могу что-то смерджить</td>\n",
       "      <td>Король говорит</td>\n",
       "    </tr>\n",
       "    <tr>\n",
       "      <th>5</th>\n",
       "      <td>2016/12/05 10:58:34 am GMT+3</td>\n",
       "      <td>программист. pl/sql python</td>\n",
       "      <td>Да</td>\n",
       "      <td>Упорядочить знания</td>\n",
       "      <td>футбол</td>\n",
       "      <td>Да</td>\n",
       "      <td>3</td>\n",
       "      <td>3</td>\n",
       "      <td>-12</td>\n",
       "      <td>2.0</td>\n",
       "      <td>Да</td>\n",
       "      <td>уже знаю</td>\n",
       "      <td>Пользуюсь ветками, могу что-то смерджить</td>\n",
       "      <td>NaN</td>\n",
       "    </tr>\n",
       "  </tbody>\n",
       "</table>\n",
       "</div>"
      ],
      "text/plain": [
       "                            time  \\\n",
       "id                                 \n",
       "0   2016/12/05 10:39:59 am GMT+3   \n",
       "1   2016/12/05 10:44:27 am GMT+3   \n",
       "2   2016/12/05 10:47:07 am GMT+3   \n",
       "3   2016/12/05 10:47:22 am GMT+3   \n",
       "5   2016/12/05 10:58:34 am GMT+3   \n",
       "\n",
       "                                                intro jupyter  \\\n",
       "id                                                              \n",
       "0                                    крутой Developer      Да   \n",
       "1   Разработчик Navision. Изучаю тему DS для возмо...      Да   \n",
       "2   Я Software Engeneer разработчик, активно интер...      Да   \n",
       "3   Семилетний инженер. Специализируюсь в компьюте...      Да   \n",
       "5                          программист. pl/sql python      Да   \n",
       "\n",
       "                                               expect       sport personal  \\\n",
       "id                                                                           \n",
       "0   Ребята, вижу ваш настрой, уверен курс будет ин...   Starcraft       Да   \n",
       "1   Практики, подкрепленной теорией. Хочется упоря...         NaN       Да   \n",
       "2     Побольше практики на реальных данных (задачах).  basketball       Да   \n",
       "3        Глубокого разбора алгоритмов и инструментов.         NaN       Да   \n",
       "5                                  Упорядочить знания      футбол       Да   \n",
       "\n",
       "    math_level quest1 quest2  quest3          fib_gen    python  \\\n",
       "id                                                                \n",
       "0            4      3    -12     2.0               Да        Да   \n",
       "1            1      3    NaN     2.0  Да, но фиговый.        Да   \n",
       "2            3      3    NaN     2.0               Да        Да   \n",
       "3            3    0.5    -12     2.0               Да        Да   \n",
       "5            3      3    -12     2.0               Да  уже знаю   \n",
       "\n",
       "                                      github  \\\n",
       "id                                             \n",
       "0                                       Проф   \n",
       "1                     Могу скачать материалы   \n",
       "2                                       Проф   \n",
       "3   Пользуюсь ветками, могу что-то смерджить   \n",
       "5   Пользуюсь ветками, могу что-то смерджить   \n",
       "\n",
       "                                                movie  \n",
       "id                                                     \n",
       "0   Прочитай книгу Лема \"Голос Неба\", очень много ...  \n",
       "1                                                 NaN  \n",
       "2                                                 NaN  \n",
       "3                                      Король говорит  \n",
       "5                                                 NaN  "
      ]
     },
     "execution_count": 19,
     "metadata": {},
     "output_type": "execute_result"
    }
   ],
   "source": [
    "poll_data.head()"
   ]
  },
  {
   "cell_type": "code",
   "execution_count": 20,
   "metadata": {},
   "outputs": [
    {
     "data": {
      "text/plain": [
       "Да                                                                                                                           2071\n",
       "Нет                                                                                                                           766\n",
       "немного                                                                                                                         7\n",
       "Немного                                                                                                                         3\n",
       "Немного,  недавно начал проходить курс от яндекса на курсоре                                                                    2\n",
       "Spyder IDE                                                                                                                      2\n",
       "Да, но мало                                                                                                                     2\n",
       "Да, но мало. В основном со Spyder                                                                                               1\n",
       "немного, больше в R                                                                                                             1\n",
       "только начинаю                                                                                                                  1\n",
       "представляю                                                                                                                     1\n",
       "приступила к прочтению Python Data Science Handbook (в виде Jupyter notebooks)                                                  1\n",
       "Ознакомлен, но не работал                                                                                                       1\n",
       "не много, в качестве ознакомления                                                                                               1\n",
       "Работал в Spyder                                                                                                                1\n",
       "очень мало                                                                                                                      1\n",
       "юзал на курсе степика по нейронке                                                                                               1\n",
       "Имею представление о том, что это такое и с чем это едят.                                                                       1\n",
       "Знаком, но не работал                                                                                                           1\n",
       "установлю и попробую                                                                                                            1\n",
       "на уровне a+b                                                                                                                   1\n",
       "Немного.                                                                                                                        1\n",
       "да, но они неудобные                                                                                                            1\n",
       "только начал                                                                                                                    1\n",
       "Предпочитал PyCharm, Notebook ненавижу                                                                                          1\n",
       "Чуть-чуть работал, но всех функций не знаю.                                                                                     1\n",
       "Планировал в декабре изучить что это                                                                                            1\n",
       "Совсем немного, но до начала курса планирую наверстать упущенное                                                                1\n",
       "Пару раз пробовал                                                                                                               1\n",
       "Однажды видел в качестве примера использования Data Science                                                                     1\n",
       "                                                                                                                             ... \n",
       "Нет, но я быстро учусь. Крайне быстро.                                                                                          1\n",
       "видел у программистов                                                                                                           1\n",
       "Видел, как работает мой сосед Гоги                                                                                              1\n",
       "Немного знаком                                                                                                                  1\n",
       "до сентября успею                                                                                                               1\n",
       "почти нет                                                                                                                       1\n",
       "чуток                                                                                                                           1\n",
       "Нет, но я полагаю, что это подобие IPython                                                                                      1\n",
       "давно                                                                                                                           1\n",
       "Только начал                                                                                                                    1\n",
       "совсем немного                                                                                                                  1\n",
       "да, немного                                                                                                                     1\n",
       "Совсем чуть-чуть                                                                                                                1\n",
       "Установлен , будет практика                                                                                                     1\n",
       "очень мало, иногда PyCharm                                                                                                      1\n",
       "очень немного                                                                                                                   1\n",
       "Как новичок                                                                                                                     1\n",
       "не много                                                                                                                        1\n",
       "Работал с Pandas и numpy                                                                                                        1\n",
       "начальный уровень                                                                                                               1\n",
       "Нельзя сказать, что имею большой опыт, но ноутбук смогу открыть.                                                                1\n",
       "Трогал их пару-тройку раз, но нормально использовать не умею, увы.                                                              1\n",
       "А удаленное обучение возможно?                                                                                                  1\n",
       "нет, но изучим, если надо                                                                                                       1\n",
       "Немного во время обучения                                                                                                       1\n",
       "только начал                                                                                                                    1\n",
       "PyCharm                                                                                                                         1\n",
       "Нет, но разберусь                                                                                                               1\n",
       "знаком, совсем немного работал                                                                                                  1\n",
       "Несколько дней работал, затем начались проблемы с созданием новых ноутбуков, которые пока не решаются. Сейчас пишу в IDEA       1\n",
       "Name: jupyter, Length: 85, dtype: int64"
      ]
     },
     "execution_count": 20,
     "metadata": {},
     "output_type": "execute_result"
    }
   ],
   "source": [
    "poll_data['jupyter'].value_counts()"
   ]
  },
  {
   "cell_type": "code",
   "execution_count": 21,
   "metadata": {},
   "outputs": [
    {
     "data": {
      "text/plain": [
       "id\n",
       "0    1.0\n",
       "1    1.0\n",
       "2    1.0\n",
       "3    1.0\n",
       "5    1.0\n",
       "Name: jupyter, dtype: float64"
      ]
     },
     "execution_count": 21,
     "metadata": {},
     "output_type": "execute_result"
    }
   ],
   "source": [
    "poll_data['jupyter'].map({'Да': 1, 'Нет': 0}).head()"
   ]
  },
  {
   "cell_type": "code",
   "execution_count": 24,
   "metadata": {},
   "outputs": [
    {
     "data": {
      "text/plain": [
       "1.0    2071\n",
       "0.0     766\n",
       "2.0     107\n",
       "Name: jupyter, dtype: int64"
      ]
     },
     "execution_count": 24,
     "metadata": {},
     "output_type": "execute_result"
    }
   ],
   "source": [
    "poll_data['jupyter'].map({'Да': 1, 'Нет': 0}).fillna(2).value_counts()"
   ]
  },
  {
   "cell_type": "code",
   "execution_count": 25,
   "metadata": {},
   "outputs": [],
   "source": [
    "jupyter_level = poll_data['jupyter'].map({'Да': 1, 'Нет': 0}).fillna(2)"
   ]
  },
  {
   "cell_type": "code",
   "execution_count": 26,
   "metadata": {},
   "outputs": [
    {
     "data": {
      "text/plain": [
       "<matplotlib.axes._subplots.AxesSubplot at 0x7f7198b2f978>"
      ]
     },
     "execution_count": 26,
     "metadata": {},
     "output_type": "execute_result"
    },
    {
     "data": {
      "image/png": "[encoded data removed]",
      "text/plain": [
       "<Figure size 432x288 with 1 Axes>"
      ]
     },
     "metadata": {
      "needs_background": "light"
     },
     "output_type": "display_data"
    }
   ],
   "source": [
    "sns.countplot(jupyter_level)"
   ]
  },
  {
   "cell_type": "code",
   "execution_count": 27,
   "metadata": {},
   "outputs": [
    {
     "data": {
      "text/plain": [
       "Футбол                                                                                     197\n",
       "футбол                                                                                     113\n",
       "Баскетбол                                                                                  113\n",
       "Плавание                                                                                    94\n",
       "Хоккей                                                                                      66\n",
       "Волейбол                                                                                    62\n",
       "Бег                                                                                         51\n",
       "Бокс                                                                                        38\n",
       "баскетбол                                                                                   38\n",
       "Шахматы                                                                                     36\n",
       "Теннис                                                                                      35\n",
       "плавание                                                                                    35\n",
       "бег                                                                                         33\n",
       "хоккей                                                                                      30\n",
       "Сноуборд                                                                                    27\n",
       "Настольный теннис                                                                           24\n",
       "Биатлон                                                                                     23\n",
       "теннис                                                                                      23\n",
       "Фигурное катание                                                                            23\n",
       "настольный теннис                                                                           21\n",
       "Горные лыжи                                                                                 21\n",
       "Киберспорт                                                                                  19\n",
       "биатлон                                                                                     18\n",
       "скалолазание                                                                                17\n",
       "Легкая атлетика                                                                             17\n",
       "шахматы                                                                                     17\n",
       "Велоспорт                                                                                   17\n",
       "Скалолазание                                                                                16\n",
       "MMA                                                                                         16\n",
       "сноуборд                                                                                    16\n",
       "                                                                                          ... \n",
       "Гребля                                                                                       1\n",
       "вейкбординг                                                                                  1\n",
       "Какая-нибудь компьютерная игра (вроде доты или кс), футбол.                                  1\n",
       "Вело                                                                                         1\n",
       "Хех, баскетбол и ам. футбол. Кстати, очень нравиться анализировать статистику NBA и NFL      1\n",
       "лень                                                                                         1\n",
       "Скоростной набор :parrot: в слаке                                                            1\n",
       "Женский пляжный волейбол, смотреть                                                           1\n",
       "Вело кросскантри                                                                             1\n",
       "Пусть будут шахматы                                                                          1\n",
       "лазертаг                                                                                     1\n",
       "Beer Ball, правда никогда не играл                                                           1\n",
       "Я не фанат спорта                                                                            1\n",
       "Cross-Fit                                                                                    1\n",
       "lol                                                                                          1\n",
       "паралимпиада                                                                                 1\n",
       "кик-боксинг                                                                                  1\n",
       "Перетягивание каната                                                                         1\n",
       "Футбол :)                                                                                    1\n",
       "бразильское джиу-джитсу                                                                      1\n",
       "велосипед!                                                                                   1\n",
       "Бейсбол :trollface:                                                                          1\n",
       "смотреть- хоккей, играть - воллейбол                                                         1\n",
       "Джиу-джитцу                                                                                  1\n",
       "анимэ                                                                                        1\n",
       "chess                                                                                        1\n",
       "Бадминтон                                                                                    1\n",
       "Футбол (soccer)                                                                              1\n",
       "футбол разумеется                                                                            1\n",
       "Бразильское джиу-джитсу                                                                      1\n",
       "Name: sport, Length: 799, dtype: int64"
      ]
     },
     "execution_count": 27,
     "metadata": {},
     "output_type": "execute_result"
    }
   ],
   "source": [
    "poll_data.sport.value_counts()"
   ]
  },
  {
   "cell_type": "code",
   "execution_count": 28,
   "metadata": {},
   "outputs": [
    {
     "data": {
      "text/plain": [
       "id\n",
       "0      3\n",
       "1      3\n",
       "2      3\n",
       "3    0.5\n",
       "5      3\n",
       "Name: quest1, dtype: object"
      ]
     },
     "execution_count": 28,
     "metadata": {},
     "output_type": "execute_result"
    }
   ],
   "source": [
    "poll_data['quest1'].head()"
   ]
  },
  {
   "cell_type": "code",
   "execution_count": 30,
   "metadata": {},
   "outputs": [
    {
     "data": {
      "text/plain": [
       "array(['3', '0.5', '0.03', nan, '0', '2', '13', '1/7',\n",
       "       'ВЫ ЧООООООООООООООООООООООООООООООООООООООООООООООООООООО', '4',\n",
       "       '1', 'моя не знать как решить', 'не хватает данных?:(',\n",
       "       'Хех, не помню', '42', '0,6', '4.666667', '0,3',\n",
       "       'Не знаю, надо гуглить', 'не знаю', '6',\n",
       "       'Восстанавливаю навыки математики', 'затрудняюсь ответить', '1/6',\n",
       "       '0,36', 'na', 'Нужно 2 дня, чтобы в этом разобраться!', '2,25',\n",
       "       'нужно гуглить', 'Я не знаю,  1/6 ?', '=(', '?', '12,25',\n",
       "       'Не знаю', '4.66', '1.6', \"don't know\", 'что такое дисперсия?',\n",
       "       '4  нагуглил', '0,0396', 'хз',\n",
       "       'я курс от мфти и яндекса проходил да еще не до конца прошел, но знаю, что квадратный корень дисперсии(то есть сигма) эт среднеквадратичное отклонение, а оно вроде как равно 3',\n",
       "       '4.6',\n",
       "       'Если это ГС - то 4.0, если это выборка - то приблизительно 4.6',\n",
       "       'не помню', 'недостаточно данных',\n",
       "       'понятия не имею, лучше, чем 0.6 / 1 не отвечу.',\n",
       "       'надо гуглить :(', 'не имею понятия', '¯ \\\\ _ (ツ) _ / ¯', '-',\n",
       "       '54', '5.(3)', 'понятия не имею',\n",
       "       'ничего не знаю о тер. вере(пока что)',\n",
       "       'не знал, не знал и забыл:)', 'без понятия', 'нет',\n",
       "       'математику к началу курса я подтяну', 'Все подходят', '3.122',\n",
       "       'Вы это и без меня знаете, а мне лень гуглить настллько банальную задачу',\n",
       "       'нуль', 'Не знаю. А, загуглил. Это 3.',\n",
       "       'Я уже сказал о своем уровне, но готов подтянуть. PsУ вас опечатка \"Какие оцениваете свой уровень математической подготовки? (матан, линал, теорвер) *\"',\n",
       "       'sqrt(3)', 'нужно подучить', 'незнаю', '160', 'Что?',\n",
       "       'Не знаю таких слов', 'обещаю изучить это позже', '36', '0,03',\n",
       "       '9', 'Знать бы', 'лень считать', '0,1667', '4.666',\n",
       "       'ХЗ, а что это?', 'дисперсия равна квадрату среднего отклонения',\n",
       "       'я не знаю', 'Не помню', 'не знаю ((', 'дисперсия не определена',\n",
       "       '5', 'не хватает данных', 'не буду угадывать', 'не помню формулу',\n",
       "       '11', '3 в непрерывном, 4 в дискретном', 'Пока не знаю', '0.25',\n",
       "       'я забыл как считать', 'А что это?:) погуглил, трем она равна:)',\n",
       "       '2,916', 'Не сегодня', 'Я лох',\n",
       "       'Не понял вопрос - нормальное распределение? Что означает равномерного на 0,6? ',\n",
       "       '3 или 4, в зависимости от того непрерывное распределение или дискретное',\n",
       "       'Чему-то из перечисленного', '0.167',\n",
       "       'Если речь про непрерывное(то три)', '0.2',\n",
       "       'честно (пока) не знаю', '4.2', 'До этого ещё не дошла', '4,6667'],\n",
       "      dtype=object)"
      ]
     },
     "execution_count": 30,
     "metadata": {},
     "output_type": "execute_result"
    }
   ],
   "source": [
    "poll_data['quest1'].unique()"
   ]
  },
  {
   "cell_type": "code",
   "execution_count": 31,
   "metadata": {},
   "outputs": [
    {
     "data": {
      "text/plain": [
       "array([ 2., nan,  1.,  4.,  3.])"
      ]
     },
     "execution_count": 31,
     "metadata": {},
     "output_type": "execute_result"
    }
   ],
   "source": [
    "poll_data['quest3'].unique()"
   ]
  },
  {
   "cell_type": "code",
   "execution_count": 36,
   "metadata": {},
   "outputs": [
    {
     "data": {
      "text/plain": [
       "1.3630952380952381"
      ]
     },
     "execution_count": 36,
     "metadata": {},
     "output_type": "execute_result"
    }
   ],
   "source": [
    "(poll_data['quest3'] == 2).dropna().sum() / poll_data.dropna().shape[0]"
   ]
  },
  {
   "cell_type": "code",
   "execution_count": 37,
   "metadata": {},
   "outputs": [
    {
     "data": {
      "text/plain": [
       "id\n",
       "0       False\n",
       "1       False\n",
       "2       False\n",
       "3       False\n",
       "5       False\n",
       "6       False\n",
       "7       False\n",
       "8       False\n",
       "9       False\n",
       "10      False\n",
       "11      False\n",
       "12      False\n",
       "13      False\n",
       "14      False\n",
       "15       True\n",
       "16      False\n",
       "17      False\n",
       "19      False\n",
       "20      False\n",
       "21      False\n",
       "22      False\n",
       "23      False\n",
       "24      False\n",
       "25      False\n",
       "26      False\n",
       "27      False\n",
       "28      False\n",
       "29      False\n",
       "30      False\n",
       "31      False\n",
       "        ...  \n",
       "3180    False\n",
       "3182    False\n",
       "3183    False\n",
       "3184    False\n",
       "3186    False\n",
       "3187    False\n",
       "3188    False\n",
       "3189    False\n",
       "3190     True\n",
       "3191     True\n",
       "3192    False\n",
       "3194    False\n",
       "3195    False\n",
       "3196    False\n",
       "3197     True\n",
       "3198    False\n",
       "3199    False\n",
       "3200    False\n",
       "3202    False\n",
       "3203    False\n",
       "3204     True\n",
       "3205    False\n",
       "3207    False\n",
       "3208    False\n",
       "3209    False\n",
       "3210    False\n",
       "3212    False\n",
       "3213    False\n",
       "3214    False\n",
       "3215     True\n",
       "Name: quest3, Length: 2944, dtype: bool"
      ]
     },
     "execution_count": 37,
     "metadata": {},
     "output_type": "execute_result"
    }
   ],
   "source": [
    "poll_data['quest3'].isnull()"
   ]
  },
  {
   "cell_type": "code",
   "execution_count": 41,
   "metadata": {},
   "outputs": [],
   "source": [
    "all = poll_data['quest3'][~poll_data['quest3'].isnull()].shape[0]"
   ]
  },
  {
   "cell_type": "code",
   "execution_count": 42,
   "metadata": {},
   "outputs": [
    {
     "data": {
      "text/plain": [
       "2725"
      ]
     },
     "execution_count": 42,
     "metadata": {},
     "output_type": "execute_result"
    }
   ],
   "source": [
    "all"
   ]
  },
  {
   "cell_type": "code",
   "execution_count": 43,
   "metadata": {},
   "outputs": [
    {
     "data": {
      "text/plain": [
       "0.9244036697247706"
      ]
     },
     "execution_count": 43,
     "metadata": {},
     "output_type": "execute_result"
    }
   ],
   "source": [
    "(poll_data['quest3'] == 2).dropna().sum() / all"
   ]
  },
  {
   "cell_type": "code",
   "execution_count": 44,
   "metadata": {},
   "outputs": [
    {
     "data": {
      "text/plain": [
       "id\n",
       "0                                     крутой Developer\n",
       "1    Разработчик Navision. Изучаю тему DS для возмо...\n",
       "2    Я Software Engeneer разработчик, активно интер...\n",
       "3    Семилетний инженер. Специализируюсь в компьюте...\n",
       "5                           программист. pl/sql python\n",
       "Name: intro, dtype: object"
      ]
     },
     "execution_count": 44,
     "metadata": {},
     "output_type": "execute_result"
    }
   ],
   "source": [
    "poll_data['intro'].head()"
   ]
  },
  {
   "cell_type": "code",
   "execution_count": 45,
   "metadata": {},
   "outputs": [
    {
     "data": {
      "text/plain": [
       "id\n",
       "3210              Занимаюсь анализом данных в страховании\n",
       "3212                         Аналитик в телеком компании.\n",
       "3213    Занимаюсь сопровождением автоматизированных си...\n",
       "3214                               разработчик Python, JS\n",
       "3215    Работал аналитиком в разных сферах, включая e-...\n",
       "Name: intro, dtype: object"
      ]
     },
     "execution_count": 45,
     "metadata": {},
     "output_type": "execute_result"
    }
   ],
   "source": [
    "poll_data['intro'].tail()"
   ]
  },
  {
   "cell_type": "code",
   "execution_count": 52,
   "metadata": {},
   "outputs": [],
   "source": [
    "words = poll_data['intro'].apply(lambda s : s.strip().split()).values"
   ]
  },
  {
   "cell_type": "code",
   "execution_count": 53,
   "metadata": {},
   "outputs": [
    {
     "data": {
      "text/plain": [
       "array(['крутой', 'Developer', 'Разработчик', ..., 'онлайн-банкинг.',\n",
       "       'Увлекаюсь', 'программированием'], dtype='<U81')"
      ]
     },
     "execution_count": 53,
     "metadata": {},
     "output_type": "execute_result"
    }
   ],
   "source": [
    "np.concatenate(words)"
   ]
  },
  {
   "cell_type": "code",
   "execution_count": 57,
   "metadata": {},
   "outputs": [],
   "source": [
    "all_words = np.concatenate(words)"
   ]
  },
  {
   "cell_type": "code",
   "execution_count": 58,
   "metadata": {},
   "outputs": [
    {
     "data": {
      "text/plain": [
       "26533"
      ]
     },
     "execution_count": 58,
     "metadata": {},
     "output_type": "execute_result"
    }
   ],
   "source": [
    "len(all_words)"
   ]
  },
  {
   "cell_type": "code",
   "execution_count": 69,
   "metadata": {},
   "outputs": [],
   "source": [
    "words_series = pd.Series(list(all_words))"
   ]
  },
  {
   "cell_type": "code",
   "execution_count": 62,
   "metadata": {},
   "outputs": [],
   "source": [
    "from nltk.corpus import stopwords"
   ]
  },
  {
   "cell_type": "code",
   "execution_count": 64,
   "metadata": {},
   "outputs": [
    {
     "name": "stderr",
     "output_type": "stream",
     "text": [
      "[nltk_data] Downloading package stopwords to\n",
      "[nltk_data]     /home/rasmadeus/nltk_data...\n",
      "[nltk_data]   Unzipping corpora/stopwords.zip.\n"
     ]
    },
    {
     "data": {
      "text/plain": [
       "True"
      ]
     },
     "execution_count": 64,
     "metadata": {},
     "output_type": "execute_result"
    }
   ],
   "source": [
    "nltk.download('stopwords')"
   ]
  },
  {
   "cell_type": "code",
   "execution_count": 66,
   "metadata": {},
   "outputs": [],
   "source": [
    "rw = stopwords.words('russian')"
   ]
  },
  {
   "cell_type": "code",
   "execution_count": 67,
   "metadata": {},
   "outputs": [
    {
     "data": {
      "text/plain": [
       "['и',\n",
       " 'в',\n",
       " 'во',\n",
       " 'не',\n",
       " 'что',\n",
       " 'он',\n",
       " 'на',\n",
       " 'я',\n",
       " 'с',\n",
       " 'со',\n",
       " 'как',\n",
       " 'а',\n",
       " 'то',\n",
       " 'все',\n",
       " 'она',\n",
       " 'так',\n",
       " 'его',\n",
       " 'но',\n",
       " 'да',\n",
       " 'ты',\n",
       " 'к',\n",
       " 'у',\n",
       " 'же',\n",
       " 'вы',\n",
       " 'за',\n",
       " 'бы',\n",
       " 'по',\n",
       " 'только',\n",
       " 'ее',\n",
       " 'мне',\n",
       " 'было',\n",
       " 'вот',\n",
       " 'от',\n",
       " 'меня',\n",
       " 'еще',\n",
       " 'нет',\n",
       " 'о',\n",
       " 'из',\n",
       " 'ему',\n",
       " 'теперь',\n",
       " 'когда',\n",
       " 'даже',\n",
       " 'ну',\n",
       " 'вдруг',\n",
       " 'ли',\n",
       " 'если',\n",
       " 'уже',\n",
       " 'или',\n",
       " 'ни',\n",
       " 'быть',\n",
       " 'был',\n",
       " 'него',\n",
       " 'до',\n",
       " 'вас',\n",
       " 'нибудь',\n",
       " 'опять',\n",
       " 'уж',\n",
       " 'вам',\n",
       " 'ведь',\n",
       " 'там',\n",
       " 'потом',\n",
       " 'себя',\n",
       " 'ничего',\n",
       " 'ей',\n",
       " 'может',\n",
       " 'они',\n",
       " 'тут',\n",
       " 'где',\n",
       " 'есть',\n",
       " 'надо',\n",
       " 'ней',\n",
       " 'для',\n",
       " 'мы',\n",
       " 'тебя',\n",
       " 'их',\n",
       " 'чем',\n",
       " 'была',\n",
       " 'сам',\n",
       " 'чтоб',\n",
       " 'без',\n",
       " 'будто',\n",
       " 'чего',\n",
       " 'раз',\n",
       " 'тоже',\n",
       " 'себе',\n",
       " 'под',\n",
       " 'будет',\n",
       " 'ж',\n",
       " 'тогда',\n",
       " 'кто',\n",
       " 'этот',\n",
       " 'того',\n",
       " 'потому',\n",
       " 'этого',\n",
       " 'какой',\n",
       " 'совсем',\n",
       " 'ним',\n",
       " 'здесь',\n",
       " 'этом',\n",
       " 'один',\n",
       " 'почти',\n",
       " 'мой',\n",
       " 'тем',\n",
       " 'чтобы',\n",
       " 'нее',\n",
       " 'сейчас',\n",
       " 'были',\n",
       " 'куда',\n",
       " 'зачем',\n",
       " 'всех',\n",
       " 'никогда',\n",
       " 'можно',\n",
       " 'при',\n",
       " 'наконец',\n",
       " 'два',\n",
       " 'об',\n",
       " 'другой',\n",
       " 'хоть',\n",
       " 'после',\n",
       " 'над',\n",
       " 'больше',\n",
       " 'тот',\n",
       " 'через',\n",
       " 'эти',\n",
       " 'нас',\n",
       " 'про',\n",
       " 'всего',\n",
       " 'них',\n",
       " 'какая',\n",
       " 'много',\n",
       " 'разве',\n",
       " 'три',\n",
       " 'эту',\n",
       " 'моя',\n",
       " 'впрочем',\n",
       " 'хорошо',\n",
       " 'свою',\n",
       " 'этой',\n",
       " 'перед',\n",
       " 'иногда',\n",
       " 'лучше',\n",
       " 'чуть',\n",
       " 'том',\n",
       " 'нельзя',\n",
       " 'такой',\n",
       " 'им',\n",
       " 'более',\n",
       " 'всегда',\n",
       " 'конечно',\n",
       " 'всю',\n",
       " 'между']"
      ]
     },
     "execution_count": 67,
     "metadata": {},
     "output_type": "execute_result"
    }
   ],
   "source": [
    "rw"
   ]
  },
  {
   "cell_type": "code",
   "execution_count": 72,
   "metadata": {},
   "outputs": [
    {
     "data": {
      "text/plain": [
       "Студент     279\n",
       "Работаю     201\n",
       "курса       187\n",
       "данных      178\n",
       "Data        173\n",
       "Я           166\n",
       "работаю     157\n",
       "data        130\n",
       "машинным    123\n",
       "хочу        122\n",
       "dtype: int64"
      ]
     },
     "execution_count": 72,
     "metadata": {},
     "output_type": "execute_result"
    }
   ],
   "source": [
    "words_series[~words_series.isin(rw)].value_counts().head(10)"
   ]
  }
 ],
 "metadata": {
  "kernelspec": {
   "display_name": "Python 3",
   "language": "python",
   "name": "python3"
  },
  "language_info": {
   "codemirror_mode": {
    "name": "ipython",
    "version": 3
   },
   "file_extension": ".py",
   "mimetype": "text/x-python",
   "name": "python",
   "nbconvert_exporter": "python",
   "pygments_lexer": "ipython3",
   "version": "3.6.7"
  }
 },
 "nbformat": 4,
 "nbformat_minor": 2
}
